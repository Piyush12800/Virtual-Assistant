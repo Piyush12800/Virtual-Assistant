{
 "cells": [
  {
   "cell_type": "code",
   "execution_count": 7,
   "id": "856050e2",
   "metadata": {},
   "outputs": [
    {
     "name": "stdout",
     "output_type": "stream",
     "text": [
      "Listening.....\n",
      "result2:\n",
      "{   'alternative': [   {   'confidence': 0.92995483,\n",
      "                           'transcript': 'Alexa search YouTube'},\n",
      "                       {'transcript': 'election search YouTube'},\n",
      "                       {'transcript': 'Alexis search YouTube'},\n",
      "                       {'transcript': 'aleksa search YouTube'},\n",
      "                       {'transcript': 'alexus search YouTube'}],\n",
      "    'final': True}\n",
      " search youtube\n",
      " search youtube\n",
      "Listening.....\n",
      "result2:\n",
      "[]\n"
     ]
    },
    {
     "ename": "UnboundLocalError",
     "evalue": "local variable 'command' referenced before assignment",
     "output_type": "error",
     "traceback": [
      "\u001b[1;31m---------------------------------------------------------------------------\u001b[0m",
      "\u001b[1;31mUnboundLocalError\u001b[0m                         Traceback (most recent call last)",
      "Cell \u001b[1;32mIn [7], line 71\u001b[0m\n\u001b[0;32m     68\u001b[0m         talk(\u001b[38;5;124m'\u001b[39m\u001b[38;5;124mPlease say the command again.\u001b[39m\u001b[38;5;124m'\u001b[39m)\n\u001b[0;32m     70\u001b[0m \u001b[38;5;28;01mwhile\u001b[39;00m \u001b[38;5;28;01mTrue\u001b[39;00m :\n\u001b[1;32m---> 71\u001b[0m     \u001b[43mrun_alexa\u001b[49m\u001b[43m(\u001b[49m\u001b[43m)\u001b[49m\n",
      "Cell \u001b[1;32mIn [7], line 36\u001b[0m, in \u001b[0;36mrun_alexa\u001b[1;34m()\u001b[0m\n\u001b[0;32m     35\u001b[0m \u001b[38;5;28;01mdef\u001b[39;00m \u001b[38;5;21mrun_alexa\u001b[39m ():\n\u001b[1;32m---> 36\u001b[0m     command \u001b[38;5;241m=\u001b[39m \u001b[43mtake_command\u001b[49m\u001b[43m(\u001b[49m\u001b[43m)\u001b[49m\n\u001b[0;32m     37\u001b[0m     \u001b[38;5;28mprint\u001b[39m(command)\n\u001b[0;32m     38\u001b[0m     \u001b[38;5;28;01mif\u001b[39;00m \u001b[38;5;124m'\u001b[39m\u001b[38;5;124mplay\u001b[39m\u001b[38;5;124m'\u001b[39m \u001b[38;5;129;01min\u001b[39;00m command :\n",
      "Cell \u001b[1;32mIn [7], line 33\u001b[0m, in \u001b[0;36mtake_command\u001b[1;34m()\u001b[0m\n\u001b[0;32m     31\u001b[0m \u001b[38;5;28;01mexcept\u001b[39;00m:\n\u001b[0;32m     32\u001b[0m     \u001b[38;5;28;01mpass\u001b[39;00m\n\u001b[1;32m---> 33\u001b[0m \u001b[38;5;28;01mreturn\u001b[39;00m \u001b[43mcommand\u001b[49m\n",
      "\u001b[1;31mUnboundLocalError\u001b[0m: local variable 'command' referenced before assignment"
     ]
    }
   ],
   "source": [
    "import speech_recognition as sr\n",
    "import pyttsx3 \n",
    "import pywhatkit\n",
    "import datetime\n",
    "import pyjokes\n",
    "import wikipedia\n",
    "import webbrowser\n",
    "listener = sr.Recognizer()\n",
    "engine = pyttsx3.init()\n",
    "voices = engine.getProperty('voices')\n",
    "engine.setProperty('voice' , voices[1].id)\n",
    "# engine.say('I am your assistant .')\n",
    "# engine.say(\"What can I do for you ?\")\n",
    "def talk(text):\n",
    "    engine.say(text)\n",
    "    # engine.say(\"What can I do for you ?\")\n",
    "    engine.runAndWait()\n",
    "\n",
    "def take_command():\n",
    "    try:\n",
    "        with sr.Microphone() as source:\n",
    "            print('Listening.....')\n",
    "            voice = listener.listen(source)\n",
    "            command = listener.recognize_google(voice)\n",
    "            command = command.lower()\n",
    "            if 'alexa' in command:\n",
    "                command = command.replace('alexa' , '')\n",
    "                print(command)\n",
    "\n",
    "\n",
    "    except:\n",
    "        pass\n",
    "    return command\n",
    "\n",
    "def run_alexa ():\n",
    "    command = take_command()\n",
    "    print(command)\n",
    "    if 'play' in command :\n",
    "        song = command.replace('play' , '')\n",
    "        talk('playing ' + song)\n",
    "        pywhatkit.playonyt(song)\n",
    "    elif 'time' in command:\n",
    "        time = datetime.datetime.now().strftime('%H:%M')\n",
    "        print(time)\n",
    "        talk('Current time is ' + time)\n",
    "    elif 'who is' in command:\n",
    "        person = command.replace('who the heck is', '')\n",
    "        info = wikipedia.summary(person, 1)\n",
    "        print(info)\n",
    "        talk(info)\n",
    "    elif 'date' in command:\n",
    "        talk('sorry, I have a headache')\n",
    "    elif 'are you single' in command:\n",
    "        talk('I am in a relationship with wifi')\n",
    "    elif 'joke' in command:\n",
    "        talk(pyjokes.get_joke())\n",
    "    elif 'search' in command :\n",
    "        search = command.replace('search' , '')\n",
    "        url = 'https://google.com/search?q='+ search\n",
    "        webbrowser.get().open(url)\n",
    "        talk('Here I found '+ search)\n",
    "    elif 'where is ' in command:\n",
    "        location = command.replace('where is ' , '')\n",
    "        url = 'https://google.nl/maps/place/' + location\n",
    "        webbrowser.get().open(url)\n",
    "        talk('Location of'+ location + 'is')\n",
    "    else:\n",
    "        talk('Please say the command again.')\n",
    "\n",
    "while True :\n",
    "    run_alexa()"
   ]
  },
  {
   "cell_type": "code",
   "execution_count": null,
   "id": "dcec1fd2",
   "metadata": {},
   "outputs": [],
   "source": []
  },
  {
   "cell_type": "code",
   "execution_count": null,
   "id": "a7311390",
   "metadata": {},
   "outputs": [],
   "source": []
  }
 ],
 "metadata": {
  "kernelspec": {
   "display_name": "Python 3 (ipykernel)",
   "language": "python",
   "name": "python3"
  },
  "language_info": {
   "codemirror_mode": {
    "name": "ipython",
    "version": 3
   },
   "file_extension": ".py",
   "mimetype": "text/x-python",
   "name": "python",
   "nbconvert_exporter": "python",
   "pygments_lexer": "ipython3",
   "version": "3.10.2"
  }
 },
 "nbformat": 4,
 "nbformat_minor": 5
}
